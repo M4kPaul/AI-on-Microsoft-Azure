{
  "cells": [
    {
      "cell_type": "markdown",
      "source": [
        "## Azure AML Experiment\r\n",
        "\r\n",
        "### Use case:\r\n",
        "Predict car price using regression.\r\n",
        "\r\n",
        "Dataset: [Car details v3](https://www.kaggle.com/nehalbirla/vehicle-dataset-from-cardekho?select=Car+details+v3.csv)\r\n",
        "\r\n",
        "\r\n",
        "Based on: [azureml-workshop-2020 Sample](https://github.com/csiebler/azureml-workshop-2020/blob/master/2-training-inference/2.3-automl-training/remote-compute/binayclassification-employee-attrition-autoaml-remote-amlcompute.ipynb)\r\n",
        "\r\n",
        "### How to:\r\n",
        "1. Create new Azure Resource Group.\r\n",
        "2. Add Machine Learning Service.\r\n",
        "3. Login at [ml.azurem.com](https://ml.zure.com/).\r\n",
        "4. Connect with created ML service.\r\n",
        "5. Go to \"Compute\" settings under Manage tab.\r\n",
        "6. Create new \"Compute Instance\".\r\n",
        "7. Go to \"Compute Cluster\" tab and create a new one.\r\n",
        "8. Go to Datasets under Assets tab.\r\n",
        "9. Import dataset and select all the settings (import without path).\r\n",
        "10. Go to \"New\" and create a new experiment Notebook.\r\n",
        "11. Follow the code below:\r\n",
        "\r\n"
      ],
      "metadata": {
        "nteract": {
          "transient": {
            "deleting": false
          }
        }
      }
    },
    {
      "cell_type": "markdown",
      "source": [
        "### 1. Connect with Azure Workspace"
      ],
      "metadata": {
        "nteract": {
          "transient": {
            "deleting": false
          }
        }
      }
    },
    {
      "cell_type": "code",
      "source": [
        "from azureml.core import Workspace, Dataset\r\n",
        "ws = Workspace.from_config()"
      ],
      "outputs": [],
      "execution_count": 1,
      "metadata": {
        "collapsed": true,
        "jupyter": {
          "source_hidden": false,
          "outputs_hidden": false
        },
        "nteract": {
          "transient": {
            "deleting": false
          }
        },
        "gather": {
          "logged": 1611750943092
        }
      }
    },
    {
      "cell_type": "markdown",
      "source": [
        "### 2. Load data using Pandas"
      ],
      "metadata": {
        "nteract": {
          "transient": {
            "deleting": false
          }
        }
      }
    },
    {
      "cell_type": "code",
      "source": [
        "aml_dataset = ws.datasets['car-ds'] # load ds\r\n",
        "\r\n",
        "full_df = aml_dataset.to_pandas_dataframe() # convert to dataframe\r\n",
        "full_df.head() # preview first 5 rows"
      ],
      "outputs": [
        {
          "output_type": "execute_result",
          "execution_count": 2,
          "data": {
            "text/plain": "                           name  year  selling_price  km_driven    fuel  \\\n0        Maruti Swift Dzire VDI  2014         450000     145500  Diesel   \n1  Skoda Rapid 1.5 TDI Ambition  2014         370000     120000  Diesel   \n2      Honda City 2017-2020 EXi  2006         158000     140000  Petrol   \n3     Hyundai i20 Sportz Diesel  2010         225000     127000  Diesel   \n4        Maruti Swift VXI BSIII  2007         130000     120000  Petrol   \n\n  seller_type transmission         owner     mileage   engine   max_power  \\\n0  Individual       Manual   First Owner   23.4 kmpl  1248 CC      74 bhp   \n1  Individual       Manual  Second Owner  21.14 kmpl  1498 CC  103.52 bhp   \n2  Individual       Manual   Third Owner   17.7 kmpl  1497 CC      78 bhp   \n3  Individual       Manual   First Owner   23.0 kmpl  1396 CC      90 bhp   \n4  Individual       Manual   First Owner   16.1 kmpl  1298 CC    88.2 bhp   \n\n                     torque  seats  \n0            190Nm@ 2000rpm    5.0  \n1       250Nm@ 1500-2500rpm    5.0  \n2     12.7@ 2,700(kgm@ rpm)    5.0  \n3  22.4 kgm at 1750-2750rpm    5.0  \n4     11.5@ 4,500(kgm@ rpm)    5.0  ",
            "text/html": "<div>\n<style scoped>\n    .dataframe tbody tr th:only-of-type {\n        vertical-align: middle;\n    }\n\n    .dataframe tbody tr th {\n        vertical-align: top;\n    }\n\n    .dataframe thead th {\n        text-align: right;\n    }\n</style>\n<table border=\"1\" class=\"dataframe\">\n  <thead>\n    <tr style=\"text-align: right;\">\n      <th></th>\n      <th>name</th>\n      <th>year</th>\n      <th>selling_price</th>\n      <th>km_driven</th>\n      <th>fuel</th>\n      <th>seller_type</th>\n      <th>transmission</th>\n      <th>owner</th>\n      <th>mileage</th>\n      <th>engine</th>\n      <th>max_power</th>\n      <th>torque</th>\n      <th>seats</th>\n    </tr>\n  </thead>\n  <tbody>\n    <tr>\n      <th>0</th>\n      <td>Maruti Swift Dzire VDI</td>\n      <td>2014</td>\n      <td>450000</td>\n      <td>145500</td>\n      <td>Diesel</td>\n      <td>Individual</td>\n      <td>Manual</td>\n      <td>First Owner</td>\n      <td>23.4 kmpl</td>\n      <td>1248 CC</td>\n      <td>74 bhp</td>\n      <td>190Nm@ 2000rpm</td>\n      <td>5.0</td>\n    </tr>\n    <tr>\n      <th>1</th>\n      <td>Skoda Rapid 1.5 TDI Ambition</td>\n      <td>2014</td>\n      <td>370000</td>\n      <td>120000</td>\n      <td>Diesel</td>\n      <td>Individual</td>\n      <td>Manual</td>\n      <td>Second Owner</td>\n      <td>21.14 kmpl</td>\n      <td>1498 CC</td>\n      <td>103.52 bhp</td>\n      <td>250Nm@ 1500-2500rpm</td>\n      <td>5.0</td>\n    </tr>\n    <tr>\n      <th>2</th>\n      <td>Honda City 2017-2020 EXi</td>\n      <td>2006</td>\n      <td>158000</td>\n      <td>140000</td>\n      <td>Petrol</td>\n      <td>Individual</td>\n      <td>Manual</td>\n      <td>Third Owner</td>\n      <td>17.7 kmpl</td>\n      <td>1497 CC</td>\n      <td>78 bhp</td>\n      <td>12.7@ 2,700(kgm@ rpm)</td>\n      <td>5.0</td>\n    </tr>\n    <tr>\n      <th>3</th>\n      <td>Hyundai i20 Sportz Diesel</td>\n      <td>2010</td>\n      <td>225000</td>\n      <td>127000</td>\n      <td>Diesel</td>\n      <td>Individual</td>\n      <td>Manual</td>\n      <td>First Owner</td>\n      <td>23.0 kmpl</td>\n      <td>1396 CC</td>\n      <td>90 bhp</td>\n      <td>22.4 kgm at 1750-2750rpm</td>\n      <td>5.0</td>\n    </tr>\n    <tr>\n      <th>4</th>\n      <td>Maruti Swift VXI BSIII</td>\n      <td>2007</td>\n      <td>130000</td>\n      <td>120000</td>\n      <td>Petrol</td>\n      <td>Individual</td>\n      <td>Manual</td>\n      <td>First Owner</td>\n      <td>16.1 kmpl</td>\n      <td>1298 CC</td>\n      <td>88.2 bhp</td>\n      <td>11.5@ 4,500(kgm@ rpm)</td>\n      <td>5.0</td>\n    </tr>\n  </tbody>\n</table>\n</div>"
          },
          "metadata": {}
        }
      ],
      "execution_count": 2,
      "metadata": {
        "collapsed": true,
        "jupyter": {
          "source_hidden": false,
          "outputs_hidden": false
        },
        "nteract": {
          "transient": {
            "deleting": false
          }
        },
        "gather": {
          "logged": 1611751748793
        }
      }
    },
    {
      "cell_type": "markdown",
      "source": [
        "### 3. Split data into training and test set"
      ],
      "metadata": {
        "nteract": {
          "transient": {
            "deleting": false
          }
        }
      }
    },
    {
      "cell_type": "code",
      "source": [
        "train_dataset, test_dataset = aml_dataset.random_split(0.85, seed=1000003) # 85% train | 15% test\r\n",
        "\r\n",
        "train_dataset_df = train_dataset.to_pandas_dataframe() # convert set to df\r\n",
        "test_dataset_df = test_dataset.to_pandas_dataframe()\r\n",
        "\r\n",
        "print(train_dataset_df.describe()) # preview train data"
      ],
      "outputs": [
        {
          "output_type": "stream",
          "name": "stdout",
          "text": [
            "              year  selling_price     km_driven        seats\n",
            "count  6909.000000   6.909000e+03  6.909000e+03  6718.000000\n",
            "mean   2013.788681   6.370007e+05  6.981722e+04     5.417982\n",
            "std       4.041359   8.058132e+05  5.746771e+04     0.959528\n",
            "min    1983.000000   2.999900e+04  1.000000e+00     2.000000\n",
            "25%    2011.000000   2.549990e+05  3.500000e+04     5.000000\n",
            "50%    2015.000000   4.500000e+05  6.000000e+04     5.000000\n",
            "75%    2017.000000   6.750000e+05  9.900000e+04     5.000000\n",
            "max    2020.000000   1.000000e+07  2.360457e+06    14.000000\n"
          ]
        }
      ],
      "execution_count": 3,
      "metadata": {
        "collapsed": true,
        "jupyter": {
          "source_hidden": false,
          "outputs_hidden": false
        },
        "nteract": {
          "transient": {
            "deleting": false
          }
        },
        "gather": {
          "logged": 1611751751340
        }
      }
    },
    {
      "cell_type": "markdown",
      "source": [
        "### 4. Connect with Compute Node"
      ],
      "metadata": {
        "nteract": {
          "transient": {
            "deleting": false
          }
        }
      }
    },
    {
      "cell_type": "code",
      "source": [
        "from azureml.core.compute import AmlCompute\r\n",
        "from azureml.core.compute import ComputeTarget\r\n",
        "\r\n",
        "amlcompute_cluster_name = \"wut-ai-aml-ci\"\r\n",
        "\r\n",
        "found = False\r\n",
        "cts = ws.compute_targets\r\n",
        "\r\n",
        "if amlcompute_cluster_name in cts and cts[amlcompute_cluster_name].type == 'ComputeInstance':\r\n",
        "     found = True\r\n",
        "     print('Found existing training cluster.')\r\n",
        "     # Get existing cluster\r\n",
        "     aml_remote_compute = cts[amlcompute_cluster_name]\r\n",
        "    \r\n",
        "print('Checking cluster status...')\r\n",
        "# Can poll for a minimum number of nodes and for a specific timeout.\r\n",
        "# If no min_node_count is provided, it will use the scale settings for the cluster.\r\n",
        "aml_remote_compute.wait_for_completion(show_output = True)"
      ],
      "outputs": [
        {
          "output_type": "stream",
          "name": "stdout",
          "text": [
            "Found existing training cluster.\n",
            "Checking cluster status...\n",
            "\n",
            "Running\n"
          ]
        }
      ],
      "execution_count": 5,
      "metadata": {
        "collapsed": true,
        "jupyter": {
          "source_hidden": false,
          "outputs_hidden": false
        },
        "nteract": {
          "transient": {
            "deleting": false
          }
        },
        "gather": {
          "logged": 1611751892580
        }
      }
    },
    {
      "cell_type": "code",
      "source": [
        "# additional details of current AmlCompute status:\r\n",
        "aml_remote_compute.get_status().serialize()"
      ],
      "outputs": [],
      "execution_count": null,
      "metadata": {
        "collapsed": true,
        "jupyter": {
          "source_hidden": false,
          "outputs_hidden": false
        },
        "nteract": {
          "transient": {
            "deleting": false
          }
        }
      }
    },
    {
      "cell_type": "markdown",
      "source": [
        "### 5. Get primary metrics to evaluate model "
      ],
      "metadata": {
        "nteract": {
          "transient": {
            "deleting": false
          }
        }
      }
    },
    {
      "cell_type": "code",
      "source": [
        "from azureml.train import automl\r\n",
        "\r\n",
        "automl.utilities.get_primary_metrics('regression')"
      ],
      "outputs": [
        {
          "output_type": "execute_result",
          "execution_count": 7,
          "data": {
            "text/plain": "['spearman_correlation',\n 'r2_score',\n 'normalized_root_mean_squared_error',\n 'normalized_mean_absolute_error']"
          },
          "metadata": {}
        }
      ],
      "execution_count": 7,
      "metadata": {
        "collapsed": true,
        "jupyter": {
          "source_hidden": false,
          "outputs_hidden": false
        },
        "nteract": {
          "transient": {
            "deleting": false
          }
        },
        "gather": {
          "logged": 1611752215414
        }
      }
    },
    {
      "cell_type": "markdown",
      "source": [
        "### 6. Set experiment settings\r\n",
        "* task - 'regression'\r\n",
        "* primary_metric - 'r2_score'\r\n",
        "* label_column_name - 'selling_price'"
      ],
      "metadata": {
        "nteract": {
          "transient": {
            "deleting": false
          }
        }
      }
    },
    {
      "cell_type": "code",
      "source": [
        "import logging\r\n",
        "import os\r\n",
        "\r\n",
        "from azureml.train.automl import AutoMLConfig\r\n",
        "\r\n",
        "project_folder = './'\r\n",
        "os.makedirs(project_folder, exist_ok=True)\r\n",
        "\r\n",
        "automl_config = AutoMLConfig(compute_target=aml_remote_compute,\r\n",
        "                             task='regression',\r\n",
        "                             primary_metric='r2_score',\r\n",
        "                             experiment_timeout_minutes=15,\r\n",
        "                             training_data=train_dataset,\r\n",
        "                             label_column_name=\"selling_price\",\r\n",
        "                             n_cross_validations=5,                           \r\n",
        "                             enable_early_stopping=True,\r\n",
        "                             featurization='auto',\r\n",
        "                             debug_log='automated_ml_errors.log',\r\n",
        "                             verbosity=logging.INFO,\r\n",
        "                             path=project_folder\r\n",
        "                             )"
      ],
      "outputs": [],
      "execution_count": 8,
      "metadata": {
        "collapsed": true,
        "jupyter": {
          "source_hidden": false,
          "outputs_hidden": false
        },
        "nteract": {
          "transient": {
            "deleting": false
          }
        },
        "gather": {
          "logged": 1611752365833
        }
      }
    },
    {
      "cell_type": "markdown",
      "source": [
        "### 7. Set experiment name and run it"
      ],
      "metadata": {
        "nteract": {
          "transient": {
            "deleting": false
          }
        }
      }
    },
    {
      "cell_type": "code",
      "source": [
        "from azureml.core import Experiment\r\n",
        "from datetime import datetime\r\n",
        "\r\n",
        "now = datetime.now()\r\n",
        "time_string = now.strftime(\"%m-%d-%Y-%H\")\r\n",
        "experiment_name = \"regr-automl-cars-remote-{0}\".format(time_string)\r\n",
        "print(experiment_name)\r\n",
        "\r\n",
        "experiment = Experiment(workspace=ws, name=experiment_name)\r\n",
        "\r\n",
        "import time\r\n",
        "start_time = time.time()\r\n",
        "            \r\n",
        "run = experiment.submit(automl_config, show_output=True)\r\n",
        "\r\n",
        "print('Manual run timing: --- %s seconds needed for running the whole Remote AutoML Experiment ---' % (time.time() - start_time))"
      ],
      "outputs": [
        {
          "output_type": "stream",
          "name": "stdout",
          "text": [
            "regr-automl-cars-remote-01-27-2021-14\n",
            "Running on remote.\n",
            "No run_configuration provided, running on wut-ai-aml-ci with default configuration\n",
            "Running on remote compute: wut-ai-aml-ci\n",
            "Parent Run ID: AutoML_f0ae5551-cb5d-472c-b485-e3b5d00d4749\n",
            "\n",
            "Current status: FeaturesGeneration. Generating features for the dataset.\n",
            "Current status: DatasetCrossValidationSplit. Generating individually featurized CV splits.\n",
            "Current status: ModelSelection. Beginning model selection.\n",
            "\n",
            "****************************************************************************************************\n",
            "DATA GUARDRAILS: \n",
            "\n",
            "TYPE:         Missing feature values imputation\n",
            "STATUS:       DONE\n",
            "DESCRIPTION:  If the missing values are expected, let the run complete. Otherwise cancel the current run and use a script to customize the handling of missing feature values that may be more appropriate based on the data type and business requirement.\n",
            "              Learn more about missing value imputation: https://aka.ms/AutomatedMLFeaturization\n",
            "DETAILS:      \n",
            "+---------------------------------+---------------------------------+---------------------------------+\n",
            "|Column name                      |Missing value count              |Imputation type                  |\n",
            "+=================================+=================================+=================================+\n",
            "|mileage                          |191                              |                                 |\n",
            "|engine                           |191                              |                                 |\n",
            "|max_power                        |186                              |                                 |\n",
            "|torque                           |192                              |                                 |\n",
            "|seats                            |191                              |mean                             |\n",
            "+---------------------------------+---------------------------------+---------------------------------+\n",
            "\n",
            "****************************************************************************************************\n",
            "\n",
            "TYPE:         High cardinality feature detection\n",
            "STATUS:       DONE\n",
            "DESCRIPTION:  High cardinality features were detected in your inputs and handled.\n",
            "              Learn more about high cardinality feature handling: https://aka.ms/AutomatedMLFeaturization\n",
            "DETAILS:      High cardinality features refer to columns that contain a large percentage of unique values.\n",
            "+---------------------------------+---------------------------------+\n",
            "|Column name                      |Column Content Type              |\n",
            "+=================================+=================================+\n",
            "|name                             |categorical_hash                 |\n",
            "|mileage                          |categorical_hash                 |\n",
            "|max_power                        |categorical_hash                 |\n",
            "|torque                           |categorical_hash                 |\n",
            "+---------------------------------+---------------------------------+\n",
            "\n",
            "****************************************************************************************************\n",
            "\n",
            "****************************************************************************************************\n",
            "ITERATION: The iteration being evaluated.\n",
            "PIPELINE: A summary description of the pipeline being evaluated.\n",
            "DURATION: Time taken for the current iteration.\n",
            "METRIC: The result of computing score on the fitted pipeline.\n",
            "BEST: The best observed score thus far.\n",
            "****************************************************************************************************\n",
            "\n",
            " ITERATION   PIPELINE                                       DURATION      METRIC      BEST\n",
            "         0   MaxAbsScaler LightGBM                          0:04:27       0.8715    0.8715\n",
            "         1   MaxAbsScaler XGBoostRegressor                  0:01:01       0.8662    0.8715\n"
          ]
        }
      ],
      "execution_count": 9,
      "metadata": {
        "collapsed": true,
        "jupyter": {
          "source_hidden": false,
          "outputs_hidden": false
        },
        "nteract": {
          "transient": {
            "deleting": false
          }
        }
      }
    },
    {
      "cell_type": "markdown",
      "source": [
        "### 8. Retrieve the 'Best Model'"
      ],
      "metadata": {
        "nteract": {
          "transient": {
            "deleting": false
          }
        }
      }
    },
    {
      "cell_type": "code",
      "source": [
        "best_run, fitted_model = run.get_output()\r\n",
        "print(best_run)\r\n",
        "print(fitted_model)"
      ],
      "outputs": [
        {
          "output_type": "stream",
          "name": "stdout",
          "text": [
            "Run(Experiment: regr-automl-cars-remote-01-27-2021-14,\n",
            "Id: AutoML_f0ae5551-cb5d-472c-b485-e3b5d00d4749_7,\n",
            "Type: azureml.scriptrun,\n",
            "Status: Completed)\n",
            "RegressionPipeline(pipeline=Pipeline(memory=None,\n",
            "                                     steps=[('datatransformer',\n",
            "                                             DataTransformer(enable_dnn=None,\n",
            "                                                             enable_feature_sweeping=None,\n",
            "                                                             feature_sweeping_config=None,\n",
            "                                                             feature_sweeping_timeout=None,\n",
            "                                                             featurization_config=None,\n",
            "                                                             force_text_dnn=None,\n",
            "                                                             is_cross_validation=None,\n",
            "                                                             is_onnx_compatible=None,\n",
            "                                                             logger=None,\n",
            "                                                             observer=None,\n",
            "                                                             task=None,\n",
            "                                                             working_dir=None)),\n",
            "                                            ('pre...\n",
            "                                                                                                steps=[('maxabsscaler',\n",
            "                                                                                                        MaxAbsScaler(copy=True)),\n",
            "                                                                                                       ('elasticnet',\n",
            "                                                                                                        ElasticNet(alpha=0.001,\n",
            "                                                                                                                   copy_X=True,\n",
            "                                                                                                                   fit_intercept=True,\n",
            "                                                                                                                   l1_ratio=1,\n",
            "                                                                                                                   max_iter=1000,\n",
            "                                                                                                                   normalize=False,\n",
            "                                                                                                                   positive=False,\n",
            "                                                                                                                   precompute=False,\n",
            "                                                                                                                   random_state=None,\n",
            "                                                                                                                   selection='cyclic',\n",
            "                                                                                                                   tol=0.0001,\n",
            "                                                                                                                   warm_start=False))],\n",
            "                                                                                                verbose=False))],\n",
            "                                                                          weights=[0.8,\n",
            "                                                                                   0.06666666666666667,\n",
            "                                                                                   0.13333333333333333]))],\n",
            "                                     verbose=False),\n",
            "                   stddev=None)\n"
          ]
        }
      ],
      "execution_count": 14,
      "metadata": {
        "collapsed": true,
        "jupyter": {
          "source_hidden": false,
          "outputs_hidden": false
        },
        "nteract": {
          "transient": {
            "deleting": false
          }
        },
        "gather": {
          "logged": 1611754117881
        }
      }
    },
    {
      "cell_type": "markdown",
      "source": [
        "### 9. Predict values"
      ],
      "metadata": {
        "nteract": {
          "transient": {
            "deleting": false
          }
        }
      }
    },
    {
      "cell_type": "code",
      "source": [
        "import pandas as pd\r\n",
        "\r\n",
        "# drop predicted data column\r\n",
        "if 'selling_price' in test_dataset_df.columns:\r\n",
        "    y_test_df = test_dataset_df.pop('selling_price')\r\n",
        "x_test_df = test_dataset_df\r\n",
        "\r\n",
        "# predict values\r\n",
        "y_predictions = fitted_model.predict(x_test_df)"
      ],
      "outputs": [],
      "execution_count": 16,
      "metadata": {
        "collapsed": true,
        "jupyter": {
          "source_hidden": false,
          "outputs_hidden": false
        },
        "nteract": {
          "transient": {
            "deleting": false
          }
        },
        "gather": {
          "logged": 1611754159773
        }
      }
    },
    {
      "cell_type": "markdown",
      "source": [
        "### 10. Calculate and show r2 score:"
      ],
      "metadata": {
        "nteract": {
          "transient": {
            "deleting": false
          }
        }
      }
    },
    {
      "cell_type": "code",
      "source": [
        "from sklearn.metrics import r2_score\r\n",
        "\r\n",
        "print('R2 Score:')\r\n",
        "r2_score(y_test_df, y_predictions)"
      ],
      "outputs": [
        {
          "output_type": "stream",
          "name": "stdout",
          "text": [
            "R2 Score:\n"
          ]
        },
        {
          "output_type": "execute_result",
          "execution_count": 17,
          "data": {
            "text/plain": "0.9566988104580337"
          },
          "metadata": {}
        }
      ],
      "execution_count": 17,
      "metadata": {
        "collapsed": true,
        "jupyter": {
          "source_hidden": false,
          "outputs_hidden": false
        },
        "nteract": {
          "transient": {
            "deleting": false
          }
        },
        "gather": {
          "logged": 1611754196090
        }
      }
    },
    {
      "cell_type": "markdown",
      "source": [
        "The accuracy of the best model reached around 96% which seems relatively good."
      ],
      "metadata": {
        "nteract": {
          "transient": {
            "deleting": false
          }
        }
      }
    }
  ],
  "metadata": {
    "kernelspec": {
      "name": "python3-azureml",
      "language": "python",
      "display_name": "Python 3.6 - AzureML"
    },
    "language_info": {
      "name": "python",
      "version": "3.6.9",
      "mimetype": "text/x-python",
      "codemirror_mode": {
        "name": "ipython",
        "version": 3
      },
      "pygments_lexer": "ipython3",
      "nbconvert_exporter": "python",
      "file_extension": ".py"
    },
    "kernel_info": {
      "name": "python3-azureml"
    },
    "nteract": {
      "version": "nteract-front-end@1.0.0"
    }
  },
  "nbformat": 4,
  "nbformat_minor": 2
}